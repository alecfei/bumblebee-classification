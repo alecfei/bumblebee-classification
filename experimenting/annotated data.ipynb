{
 "cells": [
  {
   "cell_type": "code",
   "execution_count": 1,
   "id": "5bfc9cce",
   "metadata": {},
   "outputs": [],
   "source": [
    "import xml.etree.ElementTree as ET\n",
    "import cv2\n",
    "import os"
   ]
  },
  {
   "cell_type": "code",
   "execution_count": 3,
   "id": "9ee87c04",
   "metadata": {},
   "outputs": [],
   "source": [
    "os.chdir('/home/hduser/Desktop/')\n",
    "xml_file = 'bombus terrestris male 30.xml'\n",
    "tree = ET.parse(xml_file)\n",
    "root = tree.getroot()\n",
    "\n",
    "# Initialize a list to store the annotation info\n",
    "annotated_validate = []\n",
    "\n",
    "# Iterate through each 'image' element in the XML\n",
    "for image in root.findall('image'):\n",
    "    image_id = int(image.get('id'))\n",
    "    image_name = image.get('name')\n",
    "    \n",
    "    # For each 'box' element, extract bounding box coordinates\n",
    "    for box in image.findall('box'):\n",
    "        label = box.get('label')\n",
    "        xtl = float(box.get('xtl'))\n",
    "        ytl = float(box.get('ytl'))\n",
    "        xbr = float(box.get('xbr'))\n",
    "        ybr = float(box.get('ybr'))\n",
    "        \n",
    "        annotated_validate.append({\n",
    "            'image_id': image_id,\n",
    "            'image_name': image_name,\n",
    "            'label': label,\n",
    "            'xtl': xtl,\n",
    "            'ytl': ytl,\n",
    "            'xbr': xbr,\n",
    "            'ybr': ybr\n",
    "        })"
   ]
  },
  {
   "cell_type": "code",
   "execution_count": 4,
   "id": "8232fa24",
   "metadata": {},
   "outputs": [
    {
     "name": "stdout",
     "output_type": "stream",
     "text": [
      "[{'image_id': 0, 'image_name': 'bombus terrestris male 30.jpg', 'label': 'bombus terrestris male 30', 'xtl': 202.82, 'ytl': 236.17, 'xbr': 463.08, 'ybr': 600.97}]\n"
     ]
    }
   ],
   "source": [
    "print(annotated_validate)"
   ]
  },
  {
   "cell_type": "code",
   "execution_count": 5,
   "id": "e069e7fd",
   "metadata": {},
   "outputs": [],
   "source": [
    "# Iterate through the bounding_boxes list and extract region of interest (ROI)\n",
    "for annotation in annotated_validate:\n",
    "    image = annotation['image_name']\n",
    "    xtl = int(annotation['xtl'])\n",
    "    ytl = int(annotation['ytl'])\n",
    "    xbr = int(annotation['xbr'])\n",
    "    ybr = int(annotation['ybr'])\n",
    "\n",
    "    # Load the image\n",
    "    image = cv2.imread(image)\n",
    "\n",
    "    # Extract the ROI using the bounding box coordinates\n",
    "    validate_roi = image[ytl:ybr, xtl:xbr]\n",
    "    \n",
    "    validate = f\"{annotation['image_name']}\"\n",
    "    cv2.imwrite(validate, validate_roi)"
   ]
  },
  {
   "cell_type": "code",
   "execution_count": 9,
   "id": "2b2ceee6",
   "metadata": {},
   "outputs": [
    {
     "data": {
      "text/plain": [
       "True"
      ]
     },
     "execution_count": 9,
     "metadata": {},
     "output_type": "execute_result"
    }
   ],
   "source": [
    "file1 = '/home/hduser/Desktop/bombus terrestris male 30.jpg' \n",
    "# Using List Comprehension to read all images\n",
    "terrestris = cv2.imread(file1)\n",
    "image_gray = cv2.cvtColor(terrestris, cv2.COLOR_BGR2GRAY)\n",
    "\n",
    "cv2.imwrite('gray.jpg', image_gray)"
   ]
  },
  {
   "cell_type": "code",
   "execution_count": null,
   "id": "be509e08",
   "metadata": {},
   "outputs": [],
   "source": []
  }
 ],
 "metadata": {
  "kernelspec": {
   "display_name": "Python 3 (ipykernel)",
   "language": "python",
   "name": "python3"
  },
  "language_info": {
   "codemirror_mode": {
    "name": "ipython",
    "version": 3
   },
   "file_extension": ".py",
   "mimetype": "text/x-python",
   "name": "python",
   "nbconvert_exporter": "python",
   "pygments_lexer": "ipython3",
   "version": "3.11.4"
  }
 },
 "nbformat": 4,
 "nbformat_minor": 5
}
