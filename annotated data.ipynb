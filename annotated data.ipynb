{
 "cells": [
  {
   "cell_type": "code",
   "execution_count": 1,
   "id": "5bfc9cce",
   "metadata": {},
   "outputs": [],
   "source": [
    "import xml.etree.ElementTree as ET\n",
    "import cv2\n",
    "import os"
   ]
  },
  {
   "cell_type": "code",
   "execution_count": 2,
   "id": "9ee87c04",
   "metadata": {},
   "outputs": [],
   "source": [
    "os.chdir('/home/hduser/Desktop/validate')\n",
    "xml_file = 'validate.xml'\n",
    "tree = ET.parse(xml_file)\n",
    "root = tree.getroot()\n",
    "\n",
    "# Initialize a list to store the annotation info\n",
    "annotated_validate = []\n",
    "\n",
    "# Iterate through each 'image' element in the XML\n",
    "for image in root.findall('image'):\n",
    "    image_id = int(image.get('id'))\n",
    "    image_name = image.get('name')\n",
    "    \n",
    "    # For each 'box' element, extract bounding box coordinates\n",
    "    for box in image.findall('box'):\n",
    "        label = box.get('label')\n",
    "        xtl = float(box.get('xtl'))\n",
    "        ytl = float(box.get('ytl'))\n",
    "        xbr = float(box.get('xbr'))\n",
    "        ybr = float(box.get('ybr'))\n",
    "        \n",
    "        annotated_validate.append({\n",
    "            'image_id': image_id,\n",
    "            'image_name': image_name,\n",
    "            'label': label,\n",
    "            'xtl': xtl,\n",
    "            'ytl': ytl,\n",
    "            'xbr': xbr,\n",
    "            'ybr': ybr\n",
    "        })"
   ]
  },
  {
   "cell_type": "code",
   "execution_count": 3,
   "id": "8232fa24",
   "metadata": {},
   "outputs": [
    {
     "name": "stdout",
     "output_type": "stream",
     "text": [
      "[{'image_id': 0, 'image_name': 'bombus barbutellus female 8.jpg', 'label': 'bartutellus', 'xtl': 218.28, 'ytl': 123.52, 'xbr': 629.42, 'ybr': 425.86}, {'image_id': 1, 'image_name': 'bombus barbutellus male 11.jpg', 'label': 'bartutellus', 'xtl': 209.53, 'ytl': 195.54, 'xbr': 519.51, 'ybr': 647.1}, {'image_id': 2, 'image_name': 'bombus barbutellus male 26.jpg', 'label': 'bartutellus', 'xtl': 201.23, 'ytl': 167.1, 'xbr': 434.71, 'ybr': 587.84}, {'image_id': 3, 'image_name': 'bombus barbutellus male 32.jpg', 'label': 'bartutellus', 'xtl': 178.36, 'ytl': 206.8, 'xbr': 573.62, 'ybr': 640.58}, {'image_id': 4, 'image_name': 'bombus barbutellus male 34.jpg', 'label': 'bartutellus', 'xtl': 155.18, 'ytl': 156.94, 'xbr': 622.9, 'ybr': 381.76}, {'image_id': 5, 'image_name': 'bombus barbutellus male 4.jpg', 'label': 'bartutellus', 'xtl': 221.79, 'ytl': 164.91, 'xbr': 602.6, 'ybr': 508.01}, {'image_id': 6, 'image_name': 'bombus bohemicus female 1.jpg', 'label': 'bohemicus', 'xtl': 164.24, 'ytl': 114.03, 'xbr': 656.74, 'ybr': 392.9}, {'image_id': 7, 'image_name': 'bombus bohemicus female 10.jpg', 'label': 'bohemicus', 'xtl': 196.67, 'ytl': 141.46, 'xbr': 579.1, 'ybr': 554.7}, {'image_id': 8, 'image_name': 'bombus bohemicus female 11.jpg', 'label': 'bohemicus', 'xtl': 140.1, 'ytl': 178.48, 'xbr': 596.36, 'ybr': 436.72}, {'image_id': 9, 'image_name': 'bombus bohemicus female 13.jpg', 'label': 'bohemicus', 'xtl': 144.7, 'ytl': 127.39, 'xbr': 580.84, 'ybr': 631.1}, {'image_id': 10, 'image_name': 'bombus bohemicus female 3.jpg', 'label': 'bohemicus', 'xtl': 162.67, 'ytl': 189.39, 'xbr': 628.98, 'ybr': 599.36}, {'image_id': 11, 'image_name': 'bombus bohemicus male 3.jpg', 'label': 'bohemicus', 'xtl': 248.4, 'ytl': 235.24, 'xbr': 455.81, 'ybr': 606.21}, {'image_id': 12, 'image_name': 'bombus campestris female 11.jpg', 'label': 'campestris', 'xtl': 191.66, 'ytl': 183.79, 'xbr': 509.49, 'ybr': 640.11}, {'image_id': 13, 'image_name': 'bombus campestris female 8.jpg', 'label': 'campestris', 'xtl': 214.58, 'ytl': 191.21, 'xbr': 530.45, 'ybr': 597.91}, {'image_id': 14, 'image_name': 'bombus campestris male 1.jpg', 'label': 'campestris', 'xtl': 176.46, 'ytl': 234.65, 'xbr': 505.35, 'ybr': 571.84}, {'image_id': 15, 'image_name': 'bombus campestris male 10.jpg', 'label': 'campestris', 'xtl': 187.02, 'ytl': 134.11, 'xbr': 600.86, 'ybr': 455.21}, {'image_id': 16, 'image_name': 'bombus campestris male 11.jpg', 'label': 'campestris', 'xtl': 205.67, 'ytl': 230.5, 'xbr': 508.49, 'ybr': 641.76}, {'image_id': 17, 'image_name': 'bombus campestris male 17.jpg', 'label': 'campestris', 'xtl': 200.52, 'ytl': 181.0, 'xbr': 569.07, 'ybr': 578.44}, {'image_id': 18, 'image_name': 'bombus cryptarum male 11.jpg', 'label': 'cryptarum', 'xtl': 159.98, 'ytl': 174.79, 'xbr': 534.23, 'ybr': 465.93}, {'image_id': 19, 'image_name': 'bombus cryptarum male 20.jpg', 'label': 'cryptarum', 'xtl': 190.3, 'ytl': 169.25, 'xbr': 607.68, 'ybr': 406.98}, {'image_id': 20, 'image_name': 'bombus cryptarum male 21.jpg', 'label': 'cryptarum', 'xtl': 193.79, 'ytl': 197.12, 'xbr': 611.1, 'ybr': 424.2}, {'image_id': 21, 'image_name': 'bombus cryptarum male 7.jpg', 'label': 'cryptarum', 'xtl': 230.86, 'ytl': 207.98, 'xbr': 566.86, 'ybr': 682.65}, {'image_id': 22, 'image_name': 'bombus cryptarum male 8.jpg', 'label': 'cryptarum', 'xtl': 206.15, 'ytl': 219.45, 'xbr': 589.44, 'ybr': 564.91}, {'image_id': 23, 'image_name': 'bombus cryptarum queen 12.jpg', 'label': 'cryptarum', 'xtl': 182.99, 'ytl': 233.7, 'xbr': 594.5, 'ybr': 525.62}, {'image_id': 24, 'image_name': 'bombus distinguendus male 3.jpg', 'label': 'distinguendus', 'xtl': 165.15, 'ytl': 191.2, 'xbr': 617.91, 'ybr': 428.48}, {'image_id': 25, 'image_name': 'bombus distinguendus queen 13.jpg', 'label': 'distinguendus', 'xtl': 216.26, 'ytl': 140.45, 'xbr': 541.24, 'ybr': 495.67}, {'image_id': 26, 'image_name': 'bombus distinguendus worker 11.jpg', 'label': 'distinguendus', 'xtl': 197.79, 'ytl': 209.76, 'xbr': 595.22, 'ybr': 459.44}, {'image_id': 27, 'image_name': 'bombus distinguendus worker 14.jpg', 'label': 'distinguendus', 'xtl': 234.28, 'ytl': 178.33, 'xbr': 565.67, 'ybr': 391.0}, {'image_id': 28, 'image_name': 'bombus distinguendus worker 7.jpg', 'label': 'distinguendus', 'xtl': 265.7, 'ytl': 279.69, 'xbr': 499.78, 'ybr': 666.06}, {'image_id': 29, 'image_name': 'bombus distinguendus worker 8.jpg', 'label': 'distinguendus', 'xtl': 285.99, 'ytl': 228.57, 'xbr': 535.39, 'ybr': 537.64}, {'image_id': 30, 'image_name': 'bombus hortorum male 23.jpg', 'label': 'hortorum', 'xtl': 191.09, 'ytl': 173.59, 'xbr': 577.51, 'ybr': 458.49}, {'image_id': 31, 'image_name': 'bombus hortorum queen 17.jpg', 'label': 'hortorum', 'xtl': 229.79, 'ytl': 161.75, 'xbr': 668.27, 'ybr': 513.19}, {'image_id': 32, 'image_name': 'bombus hortorum worker 13.jpg', 'label': 'hortorum', 'xtl': 228.67, 'ytl': 152.0, 'xbr': 514.89, 'ybr': 441.78}, {'image_id': 33, 'image_name': 'bombus hortorum worker 14 (dark).jpg', 'label': 'hortorum', 'xtl': 223.33, 'ytl': 288.58, 'xbr': 395.19, 'ybr': 572.43}, {'image_id': 34, 'image_name': 'bombus hortorum worker 17.jpg', 'label': 'hortorum', 'xtl': 153.25, 'ytl': 233.51, 'xbr': 465.16, 'ybr': 583.29}, {'image_id': 35, 'image_name': 'bombus hortorum worker 5.jpg', 'label': 'hortorum', 'xtl': 151.21, 'ytl': 369.76, 'xbr': 436.25, 'ybr': 562.95}, {'image_id': 36, 'image_name': 'bombus hypnorum male 10.jpg', 'label': 'hypnorum', 'xtl': 235.42, 'ytl': 237.02, 'xbr': 498.53, 'ybr': 557.02}, {'image_id': 37, 'image_name': 'bombus hypnorum male 25 (very pale).jpg', 'label': 'hypnorum', 'xtl': 262.22, 'ytl': 175.33, 'xbr': 546.37, 'ybr': 563.07}, {'image_id': 38, 'image_name': 'bombus hypnorum worker 11.jpg', 'label': 'hypnorum', 'xtl': 208.53, 'ytl': 207.46, 'xbr': 494.39, 'ybr': 633.01}, {'image_id': 39, 'image_name': 'bombus hypnorum worker 19 (dark).jpg', 'label': 'hypnorum', 'xtl': 196.75, 'ytl': 208.03, 'xbr': 576.04, 'ybr': 462.4}, {'image_id': 40, 'image_name': 'bombus hypnorum worker 4.jpg', 'label': 'hypnorum', 'xtl': 230.38, 'ytl': 190.8, 'xbr': 501.79, 'ybr': 624.58}, {'image_id': 41, 'image_name': 'bombus hypnorum worker 7.jpg', 'label': 'hypnorum', 'xtl': 234.6, 'ytl': 233.51, 'xbr': 466.64, 'ybr': 637.15}, {'image_id': 42, 'image_name': 'bombus jonellus male 3.jpg', 'label': 'jonellus', 'xtl': 275.06, 'ytl': 217.78, 'xbr': 592.83, 'ybr': 543.89}, {'image_id': 43, 'image_name': 'bombus jonellus queen 1.jpg', 'label': 'jonellus', 'xtl': 205.33, 'ytl': 215.54, 'xbr': 567.06, 'ybr': 579.49}, {'image_id': 44, 'image_name': 'bombus jonellus queen 13.jpg', 'label': 'jonellus', 'xtl': 220.84, 'ytl': 147.54, 'xbr': 528.4, 'ybr': 632.88}, {'image_id': 45, 'image_name': 'bombus jonellus worker 1.jpg', 'label': 'jonellus', 'xtl': 205.14, 'ytl': 274.95, 'xbr': 522.18, 'ybr': 610.36}, {'image_id': 46, 'image_name': 'bombus jonellus worker 4.jpg', 'label': 'jonellus', 'xtl': 244.9, 'ytl': 197.36, 'xbr': 528.39, 'ybr': 564.81}, {'image_id': 47, 'image_name': 'bombus jonellus worker 6.jpg', 'label': 'jonellus', 'xtl': 260.47, 'ytl': 194.18, 'xbr': 525.98, 'ybr': 598.92}, {'image_id': 48, 'image_name': 'bombus lapidarius male 7.jpg', 'label': 'lapidarius', 'xtl': 237.12, 'ytl': 172.55, 'xbr': 445.45, 'ybr': 598.68}, {'image_id': 49, 'image_name': 'bombus lapidarius queen 14.jpg', 'label': 'lapidarius', 'xtl': 154.07, 'ytl': 119.62, 'xbr': 638.95, 'ybr': 477.95}, {'image_id': 50, 'image_name': 'bombus lapidarius queen 2.jpg', 'label': 'lapidarius', 'xtl': 209.06, 'ytl': 234.08, 'xbr': 601.38, 'ybr': 461.57}, {'image_id': 51, 'image_name': 'bombus lapidarius queen 6.jpg', 'label': 'lapidarius', 'xtl': 242.59, 'ytl': 194.95, 'xbr': 531.19, 'ybr': 596.73}, {'image_id': 52, 'image_name': 'bombus lapidarius worker 18.jpg', 'label': 'lapidarius', 'xtl': 210.89, 'ytl': 215.1, 'xbr': 519.63, 'ybr': 606.21}, {'image_id': 53, 'image_name': 'bombus lapidarius worker 3.jpg', 'label': 'lapidarius', 'xtl': 257.17, 'ytl': 207.39, 'xbr': 514.36, 'ybr': 555.24}, {'image_id': 54, 'image_name': 'bombus lucorum male 11.jpg', 'label': 'lucorum', 'xtl': 237.13, 'ytl': 181.46, 'xbr': 567.76, 'ybr': 521.95}, {'image_id': 55, 'image_name': 'bombus lucorum queen 15.jpg', 'label': 'lucorum', 'xtl': 189.68, 'ytl': 156.71, 'xbr': 649.48, 'ybr': 593.2}, {'image_id': 56, 'image_name': 'bombus lucorum queen 17.jpg', 'label': 'lucorum', 'xtl': 146.37, 'ytl': 159.24, 'xbr': 645.61, 'ybr': 494.74}, {'image_id': 57, 'image_name': 'bombus lucorum queen 2.jpg', 'label': 'lucorum', 'xtl': 213.08, 'ytl': 169.47, 'xbr': 514.12, 'ybr': 661.91}, {'image_id': 58, 'image_name': 'bombus lucorum queen 22.jpg', 'label': 'lucorum', 'xtl': 236.88, 'ytl': 138.22, 'xbr': 577.2, 'ybr': 618.8}, {'image_id': 59, 'image_name': 'bombus lucorum worker 9.jpg', 'label': 'lucorum', 'xtl': 206.09, 'ytl': 180.13, 'xbr': 487.57, 'ybr': 567.1}, {'image_id': 60, 'image_name': 'bombus magnus male 18.jpg', 'label': 'magnus', 'xtl': 165.85, 'ytl': 150.34, 'xbr': 630.13, 'ybr': 426.4}, {'image_id': 61, 'image_name': 'bombus magnus male 22.jpg', 'label': 'magnus', 'xtl': 241.7, 'ytl': 174.26, 'xbr': 499.16, 'ybr': 477.02}, {'image_id': 62, 'image_name': 'bombus magnus queen 1.jpg', 'label': 'magnus', 'xtl': 236.97, 'ytl': 99.69, 'xbr': 572.77, 'ybr': 465.64}, {'image_id': 63, 'image_name': 'bombus magnus queen 9.jpg', 'label': 'magnus', 'xtl': 256.58, 'ytl': 184.88, 'xbr': 530.95, 'ybr': 643.54}, {'image_id': 64, 'image_name': 'bombus magnus worker 5.jpg', 'label': 'magnus', 'xtl': 180.61, 'ytl': 205.72, 'xbr': 621.41, 'ybr': 449.06}, {'image_id': 65, 'image_name': 'bombus magnus worker 8.jpg', 'label': 'magnus', 'xtl': 201.88, 'ytl': 183.1, 'xbr': 530.77, 'ybr': 565.32}, {'image_id': 66, 'image_name': 'bombus monticola queen 11.jpg', 'label': 'monticola', 'xtl': 220.31, 'ytl': 184.28, 'xbr': 493.5, 'ybr': 627.54}, {'image_id': 67, 'image_name': 'bombus monticola queen 16 (old).jpg', 'label': 'monticola', 'xtl': 223.63, 'ytl': 224.05, 'xbr': 593.46, 'ybr': 619.78}, {'image_id': 68, 'image_name': 'bombus monticola queen 5.jpg', 'label': 'monticola', 'xtl': 150.84, 'ytl': 136.05, 'xbr': 600.04, 'ybr': 564.29}, {'image_id': 69, 'image_name': 'bombus monticola queen 7.jpg', 'label': 'monticola', 'xtl': 144.1, 'ytl': 209.17, 'xbr': 542.86, 'ybr': 573.62}, {'image_id': 70, 'image_name': 'bombus monticola worker 18.jpg', 'label': 'monticola', 'xtl': 206.45, 'ytl': 214.5, 'xbr': 493.26, 'ybr': 639.98}, {'image_id': 71, 'image_name': 'bombus monticola worker 5.jpg', 'label': 'monticola', 'xtl': 273.38, 'ytl': 186.82, 'xbr': 487.51, 'ybr': 486.71}, {'image_id': 72, 'image_name': 'bombus muscorum male 4.jpg', 'label': 'muscorum', 'xtl': 227.59, 'ytl': 197.34, 'xbr': 541.86, 'ybr': 567.92}, {'image_id': 73, 'image_name': 'bombus muscorum queen 14.jpg', 'label': 'muscorum', 'xtl': 190.03, 'ytl': 181.91, 'xbr': 454.92, 'ybr': 602.06}, {'image_id': 74, 'image_name': 'bombus muscorum queen 24 (faded).jpg', 'label': 'muscorum', 'xtl': 200.64, 'ytl': 210.95, 'xbr': 482.71, 'ybr': 622.8}, {'image_id': 75, 'image_name': 'bombus muscorum queen 9.jpg', 'label': 'muscorum', 'xtl': 223.39, 'ytl': 147.54, 'xbr': 491.84, 'ybr': 585.47}, {'image_id': 76, 'image_name': 'bombus muscorum worker 15.jpg', 'label': 'muscorum', 'xtl': 252.37, 'ytl': 186.66, 'xbr': 536.74, 'ybr': 472.58}, {'image_id': 77, 'image_name': 'bombus muscorum worker 25.jpg', 'label': 'muscorum', 'xtl': 206.95, 'ytl': 158.04, 'xbr': 593.09, 'ybr': 508.14}, {'image_id': 78, 'image_name': 'bombus pascuorum male 2.jpg', 'label': 'pascuorum', 'xtl': 303.86, 'ytl': 183.95, 'xbr': 513.39, 'ybr': 529.72}, {'image_id': 79, 'image_name': 'bombus pascuorum male 48.jpg', 'label': 'pascuorum', 'xtl': 214.37, 'ytl': 129.68, 'xbr': 572.5, 'ybr': 364.69}, {'image_id': 80, 'image_name': 'bombus pascuorum queen 27.jpg', 'label': 'pascuorum', 'xtl': 180.73, 'ytl': 238.8, 'xbr': 495.98, 'ybr': 550.5}, {'image_id': 81, 'image_name': 'bombus pascuorum queen 46.jpg', 'label': 'pascuorum', 'xtl': 125.79, 'ytl': 197.32, 'xbr': 505.64, 'ybr': 628.13}, {'image_id': 82, 'image_name': 'bombus pascuorum worker 22.jpg', 'label': 'pascuorum', 'xtl': 260.65, 'ytl': 194.49, 'xbr': 574.3, 'ybr': 529.15}, {'image_id': 83, 'image_name': 'bombus pascuorum worker 9.jpg', 'label': 'pascuorum', 'xtl': 294.81, 'ytl': 244.64, 'xbr': 598.88, 'ybr': 604.0}, {'image_id': 84, 'image_name': 'bombus pratorum male 16.jpg', 'label': 'pratorum', 'xtl': 223.51, 'ytl': 290.36, 'xbr': 487.21, 'ybr': 600.88}, {'image_id': 85, 'image_name': 'bombus pratorum male 23.jpg', 'label': 'pratorum', 'xtl': 215.64, 'ytl': 183.86, 'xbr': 588.9, 'ybr': 421.6}, {'image_id': 86, 'image_name': 'bombus pratorum queen 12.jpg', 'label': 'pratorum', 'xtl': 152.02, 'ytl': 124.84, 'xbr': 643.56, 'ybr': 582.01}, {'image_id': 87, 'image_name': 'bombus pratorum queen 16.jpg', 'label': 'pratorum', 'xtl': 200.58, 'ytl': 173.62, 'xbr': 578.65, 'ybr': 626.36}, {'image_id': 88, 'image_name': 'bombus pratorum queen 24.jpg', 'label': 'pratorum', 'xtl': 163.7, 'ytl': 123.4, 'xbr': 649.19, 'ybr': 426.29}, {'image_id': 89, 'image_name': 'bombus pratorum queen 5.jpg', 'label': 'pratorum', 'xtl': 193.41, 'ytl': 159.01, 'xbr': 624.95, 'ybr': 479.61}, {'image_id': 90, 'image_name': 'bombus ruderarius queen 11.jpg', 'label': 'ruderarius', 'xtl': 145.47, 'ytl': 125.52, 'xbr': 651.21, 'ybr': 467.19}, {'image_id': 91, 'image_name': 'bombus ruderarius queen 17.jpg', 'label': 'ruderarius', 'xtl': 203.12, 'ytl': 114.77, 'xbr': 621.45, 'ybr': 577.67}, {'image_id': 92, 'image_name': 'bombus ruderarius queen 20.jpg', 'label': 'ruderarius', 'xtl': 136.78, 'ytl': 107.02, 'xbr': 656.1, 'ybr': 567.21}, {'image_id': 93, 'image_name': 'bombus ruderarius queen 21.jpg', 'label': 'ruderarius', 'xtl': 157.53, 'ytl': 105.96, 'xbr': 628.62, 'ybr': 535.62}, {'image_id': 94, 'image_name': 'bombus ruderarius queen 6.jpg', 'label': 'ruderarius', 'xtl': 178.18, 'ytl': 129.77, 'xbr': 580.74, 'ybr': 447.53}, {'image_id': 95, 'image_name': 'bombus ruderarius worker 5.jpg', 'label': 'ruderarius', 'xtl': 200.64, 'ytl': 236.43, 'xbr': 598.86, 'ybr': 575.98}, {'image_id': 96, 'image_name': 'bombus rupestris female 2.jpg', 'label': 'rupestris', 'xtl': 210.41, 'ytl': 170.06, 'xbr': 505.53, 'ybr': 658.95}, {'image_id': 97, 'image_name': 'bombus rupestris female 32.jpg', 'label': 'rupestris', 'xtl': 136.96, 'ytl': 106.58, 'xbr': 666.88, 'ybr': 499.22}, {'image_id': 98, 'image_name': 'bombus rupestris female 33.jpg', 'label': 'rupestris', 'xtl': 128.63, 'ytl': 108.1, 'xbr': 696.1, 'ybr': 385.97}, {'image_id': 99, 'image_name': 'bombus rupestris male 10.jpg', 'label': 'rupestris', 'xtl': 243.39, 'ytl': 180.34, 'xbr': 514.78, 'ybr': 499.15}, {'image_id': 100, 'image_name': 'bombus rupestris male 21.jpg', 'label': 'rupestris', 'xtl': 158.42, 'ytl': 173.8, 'xbr': 602.12, 'ybr': 470.78}, {'image_id': 101, 'image_name': 'bombus rupestris male 23.jpg', 'label': 'rupestris', 'xtl': 204.43, 'ytl': 163.54, 'xbr': 487.69, 'ybr': 642.36}, {'image_id': 102, 'image_name': 'bombus sylvarum queen 5.jpg', 'label': 'sylvarum', 'xtl': 228.96, 'ytl': 140.46, 'xbr': 618.93, 'ybr': 542.66}, {'image_id': 103, 'image_name': 'bombus sylvarum queen 7.jpg', 'label': 'sylvarum', 'xtl': 159.89, 'ytl': 134.86, 'xbr': 576.76, 'ybr': 556.44}, {'image_id': 104, 'image_name': 'bombus sylvarum worker 10.jpg', 'label': 'sylvarum', 'xtl': 227.31, 'ytl': 223.03, 'xbr': 570.95, 'ybr': 531.38}, {'image_id': 105, 'image_name': 'bombus sylvarum worker 11.jpg', 'label': 'sylvarum', 'xtl': 205.56, 'ytl': 189.16, 'xbr': 542.56, 'ybr': 427.61}, {'image_id': 106, 'image_name': 'bombus sylvarum worker 4.jpg', 'label': 'sylvarum', 'xtl': 212.58, 'ytl': 155.99, 'xbr': 595.27, 'ybr': 519.18}, {'image_id': 107, 'image_name': 'bombus sylvarum worker 8.jpg', 'label': 'sylvarum', 'xtl': 298.06, 'ytl': 171.24, 'xbr': 549.91, 'ybr': 584.28}, {'image_id': 108, 'image_name': 'bombus sylvestris female 10.jpg', 'label': 'sylvestris', 'xtl': 185.07, 'ytl': 174.47, 'xbr': 552.4, 'ybr': 377.8}, {'image_id': 109, 'image_name': 'bombus sylvestris female 22.jpg', 'label': 'sylvestris', 'xtl': 147.65, 'ytl': 180.42, 'xbr': 615.11, 'ybr': 557.92}, {'image_id': 110, 'image_name': 'bombus sylvestris male 10.jpg', 'label': 'sylvestris', 'xtl': 197.5, 'ytl': 166.99, 'xbr': 567.43, 'ybr': 562.2}, {'image_id': 111, 'image_name': 'bombus sylvestris male 16.jpg', 'label': 'sylvestris', 'xtl': 143.61, 'ytl': 133.33, 'xbr': 608.21, 'ybr': 424.8}, {'image_id': 112, 'image_name': 'bombus sylvestris male 23.jpg', 'label': 'sylvestris', 'xtl': 218.68, 'ytl': 157.84, 'xbr': 616.83, 'ybr': 467.26}, {'image_id': 113, 'image_name': 'bombus sylvestris male 6.jpg', 'label': 'sylvestris', 'xtl': 143.89, 'ytl': 169.68, 'xbr': 556.69, 'ybr': 460.88}, {'image_id': 114, 'image_name': 'bombus terrestris male 38.jpg', 'label': 'terrestris', 'xtl': 202.44, 'ytl': 181.39, 'xbr': 572.58, 'ybr': 480.67}, {'image_id': 115, 'image_name': 'bombus terrestris male 55.jpg', 'label': 'terrestris', 'xtl': 199.78, 'ytl': 146.61, 'xbr': 596.42, 'ybr': 424.62}, {'image_id': 116, 'image_name': 'bombus terrestris queen 65.jpg', 'label': 'terrestris', 'xtl': 191.71, 'ytl': 147.03, 'xbr': 586.47, 'ybr': 411.7}, {'image_id': 117, 'image_name': 'bombus terrestris queen 7.jpg', 'label': 'terrestris', 'xtl': 180.9, 'ytl': 208.38, 'xbr': 517.12, 'ybr': 579.58}, {'image_id': 118, 'image_name': 'bombus terrestris worker 10.jpg', 'label': 'terrestris', 'xtl': 320.89, 'ytl': 146.3, 'xbr': 547.14, 'ybr': 464.33}, {'image_id': 119, 'image_name': 'bombus vestalis female 11.jpg', 'label': 'vestalis', 'xtl': 235.09, 'ytl': 169.98, 'xbr': 462.07, 'ybr': 611.15}, {'image_id': 120, 'image_name': 'bombus vestalis female 17.jpg', 'label': 'vestalis', 'xtl': 161.76, 'ytl': 122.84, 'xbr': 566.18, 'ybr': 433.46}, {'image_id': 121, 'image_name': 'bombus vestalis female 30.jpg', 'label': 'vestalis', 'xtl': 197.8, 'ytl': 181.07, 'xbr': 579.24, 'ybr': 629.07}, {'image_id': 122, 'image_name': 'bombus vestalis male 1.jpg', 'label': 'vestalis', 'xtl': 183.5, 'ytl': 172.15, 'xbr': 628.25, 'ybr': 452.33}, {'image_id': 123, 'image_name': 'bombus vestalis male 13.jpg', 'label': 'vestalis', 'xtl': 186.05, 'ytl': 164.22, 'xbr': 585.34, 'ybr': 514.91}, {'image_id': 124, 'image_name': 'bombus vestalis male 7.jpg', 'label': 'vestalis', 'xtl': 240.26, 'ytl': 185.24, 'xbr': 568.85, 'ybr': 585.15}]\n"
     ]
    }
   ],
   "source": [
    "print(annotated_validate)"
   ]
  },
  {
   "cell_type": "code",
   "execution_count": 4,
   "id": "e069e7fd",
   "metadata": {},
   "outputs": [],
   "source": [
    "# Iterate through the bounding_boxes list and extract region of interest (ROI)\n",
    "for annotation in annotated_validate:\n",
    "    image = annotation['image_name']\n",
    "    xtl = int(annotation['xtl'])\n",
    "    ytl = int(annotation['ytl'])\n",
    "    xbr = int(annotation['xbr'])\n",
    "    ybr = int(annotation['ybr'])\n",
    "\n",
    "    # Load the image\n",
    "    image = cv2.imread(image)\n",
    "\n",
    "    # Extract the ROI using the bounding box coordinates\n",
    "    validate_roi = image[ytl:ybr, xtl:xbr]\n",
    "    \n",
    "    validate = f\"{annotation['image_name']}\"\n",
    "    cv2.imwrite(validate, validate_roi)"
   ]
  },
  {
   "cell_type": "code",
   "execution_count": null,
   "id": "2b2ceee6",
   "metadata": {},
   "outputs": [],
   "source": []
  }
 ],
 "metadata": {
  "kernelspec": {
   "display_name": "Python 3 (ipykernel)",
   "language": "python",
   "name": "python3"
  },
  "language_info": {
   "codemirror_mode": {
    "name": "ipython",
    "version": 3
   },
   "file_extension": ".py",
   "mimetype": "text/x-python",
   "name": "python",
   "nbconvert_exporter": "python",
   "pygments_lexer": "ipython3",
   "version": "3.11.4"
  }
 },
 "nbformat": 4,
 "nbformat_minor": 5
}
